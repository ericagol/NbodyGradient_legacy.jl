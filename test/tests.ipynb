{
 "cells": [
  {
   "cell_type": "code",
   "execution_count": 1,
   "metadata": {},
   "outputs": [],
   "source": [
    "include(\"../src/ttv.jl\")\n",
    "maxabs(x) = maximum(abs.(x))\n",
    "using Test"
   ]
  },
  {
   "cell_type": "code",
   "execution_count": 2,
   "metadata": {},
   "outputs": [
    {
     "name": "stdout",
     "output_type": "stream",
     "text": [
      "Jacobians: 1.262810956719672640026906290281648261887383140722038621554586835839224278711726e-15\n",
      "Total area: 3.964319187231701838674230041911385118285833882981636703461786603922625973245931 0.0015786521339804043 ratio: 2511.205034915507687799389863766988790019601738007178450471804516126100266272716\n",
      "Scatter in dAdt: 1.479546408089922242517594673726513758066516975399919416609022089447509328958934e-05\n",
      "\u001b[37m\u001b[1mTest Summary: | \u001b[22m\u001b[39m\u001b[32m\u001b[1mPass  \u001b[22m\u001b[39m\u001b[36m\u001b[1mTotal\u001b[22m\u001b[39m\n",
      "kepler_init   | \u001b[32m   1  \u001b[39m\u001b[36m    1\u001b[39m\n"
     ]
    },
    {
     "data": {
      "text/plain": [
       "Test.DefaultTestSet(\"kepler_init\", Any[], 1, false)"
      ]
     },
     "execution_count": 2,
     "metadata": {},
     "output_type": "execute_result"
    }
   ],
   "source": [
    "include(\"test_kepler_init.jl\")"
   ]
  },
  {
   "cell_type": "code",
   "execution_count": null,
   "metadata": {},
   "outputs": [],
   "source": [
    "# Not currently working\n",
    "include(\"test_init_nbody.jl\")"
   ]
  },
  {
   "cell_type": "code",
   "execution_count": 3,
   "metadata": {},
   "outputs": [
    {
     "name": "stdout",
     "output_type": "stream",
     "text": [
      "Fractional Jacobian difference: 6.439293542825908e-15\n",
      "Maximum jac_big-jac_num: 5.092904789030368e-15\n",
      "Maximum fractional error: 6.661338147750939e-15 2 4\n",
      "Maximum jacobian-jac_num: 1.1368683772161603e-13\n",
      "\u001b[37m\u001b[1mTest Summary: | \u001b[22m\u001b[39m\u001b[32m\u001b[1mPass  \u001b[22m\u001b[39m\u001b[36m\u001b[1mTotal\u001b[22m\u001b[39m\n",
      "kep_elliptic  | \u001b[32m   1  \u001b[39m\u001b[36m    1\u001b[39m\n"
     ]
    },
    {
     "data": {
      "text/plain": [
       "Test.DefaultTestSet(\"kep_elliptic\", Any[], 1, false)"
      ]
     },
     "execution_count": 3,
     "metadata": {},
     "output_type": "execute_result"
    }
   ],
   "source": [
    "include(\"test_elliptic_derivative.jl\")"
   ]
  },
  {
   "cell_type": "code",
   "execution_count": 4,
   "metadata": {},
   "outputs": [
    {
     "name": "stdout",
     "output_type": "stream",
     "text": [
      "max(jac_ij - jac_ij_big): 2.498001805406602e-16\n",
      "Maximum fractional error: 1.1153411527686785e-11 3 7\n",
      "Maximum jac_ij error:   1.942890293094024e-16\n",
      "Maximum jac_ij_big-jac_ij_num:   8.071897226469972e-17\n",
      "Max dqdt error: 2.7755575615628914e-17\n",
      "max(jac_ij - jac_ij_big): 1.1102230246251565e-16\n",
      "Maximum fractional error: 3.564377681897213e-10 1 7\n",
      "Maximum jac_ij error:   2.2898349882893854e-16\n",
      "Maximum jac_ij_big-jac_ij_num:   2.5822387186915846e-16\n",
      "Max dqdt error: 1.0408340855860843e-17\n",
      "\u001b[37m\u001b[1mTest Summary: | \u001b[22m\u001b[39m\u001b[32m\u001b[1mPass  \u001b[22m\u001b[39m\u001b[36m\u001b[1mTotal\u001b[22m\u001b[39m\n",
      "keplerij      | \u001b[32m   2  \u001b[39m\u001b[36m    2\u001b[39m\n"
     ]
    },
    {
     "data": {
      "text/plain": [
       "Test.DefaultTestSet(\"keplerij\", Any[], 2, false)"
      ]
     },
     "execution_count": 4,
     "metadata": {},
     "output_type": "execute_result"
    }
   ],
   "source": [
    "include(\"test_keplerij.jl\")"
   ]
  },
  {
   "cell_type": "code",
   "execution_count": 7,
   "metadata": {},
   "outputs": [
    {
     "name": "stdout",
     "output_type": "stream",
     "text": [
      "Maximum jac_step kickfast error: 1.6653345369377348e-16\n",
      "Maximum dqdt_kick kickdfast error: 4.163336342344337e-17\n",
      "\u001b[37m\u001b[1mTest Summary: | \u001b[22m\u001b[39m\u001b[32m\u001b[1mPass  \u001b[22m\u001b[39m\u001b[36m\u001b[1mTotal\u001b[22m\u001b[39m\n",
      "kickfast      | \u001b[32m   2  \u001b[39m\u001b[36m    2\u001b[39m\n"
     ]
    },
    {
     "data": {
      "text/plain": [
       "Test.DefaultTestSet(\"kickfast\", Any[], 2, false)"
      ]
     },
     "execution_count": 7,
     "metadata": {},
     "output_type": "execute_result"
    }
   ],
   "source": [
    "include(\"test_kickfast.jl\")"
   ]
  },
  {
   "cell_type": "code",
   "execution_count": 8,
   "metadata": {},
   "outputs": [
    {
     "name": "stdout",
     "output_type": "stream",
     "text": [
      "pair: Bool[false false false; false false false; false false false]\n",
      "Maximum jac_step phisalpha error: 5.765103712543775e-19\n",
      "Maximum dqdt_phi phisalpha error: 3.2526065174565133e-19\n",
      "\u001b[37m\u001b[1mTest Summary: | \u001b[22m\u001b[39m\u001b[32m\u001b[1mPass  \u001b[22m\u001b[39m\u001b[36m\u001b[1mTotal\u001b[22m\u001b[39m\n",
      "phisalpha     | \u001b[32m   2  \u001b[39m\u001b[36m    2\u001b[39m\n"
     ]
    },
    {
     "data": {
      "text/plain": [
       "Test.DefaultTestSet(\"phisalpha\", Any[], 2, false)"
      ]
     },
     "execution_count": 8,
     "metadata": {},
     "output_type": "execute_result"
    }
   ],
   "source": [
    "include(\"test_phisalpha.jl\")"
   ]
  },
  {
   "cell_type": "code",
   "execution_count": 9,
   "metadata": {},
   "outputs": [
    {
     "name": "stdout",
     "output_type": "stream",
     "text": [
      "  0.003210 seconds (25.50 k allocations: 3.098 MiB)\n",
      "  0.303842 seconds (598.46 k allocations: 32.136 MiB, 4.47% gc time)\n",
      "AH18 vs. DH17 x/v difference: [1.37802e-16 -1.17423e-14 -2.20483e-14; -7.80626e-17 -4.27783e-15 2.11853e-14; -1.1254e-16 -2.70617e-15 2.15696e-14][-3.17129e-16 1.58207e-15 5.39568e-14; -3.13775e-17 -7.49747e-15 9.12465e-15; -3.60714e-16 1.74895e-14 5.44703e-14]\n",
      "Maximum fractional error: 2.895187059111770919973050358249900383786306291710765163533768707965143051552097e-13 1 1 1 2 0.01651408754991883\n",
      "Maximum error jac_step:   4.321460798924992342156305183420639631369765020702081164566116241264144389051434e-10\n",
      "Maximum diff asinh(jac_step):   2.667303548673516232116525945876979237404576165990692203050058334857967946192397e-11\n",
      "\u001b[37m\u001b[1mTest Summary: | \u001b[22m\u001b[39m\u001b[32m\u001b[1mPass  \u001b[22m\u001b[39m\u001b[36m\u001b[1mTotal\u001b[22m\u001b[39m\n",
      "dh17          | \u001b[32m   1  \u001b[39m\u001b[36m    1\u001b[39m\n"
     ]
    },
    {
     "data": {
      "text/plain": [
       "Test.DefaultTestSet(\"dh17\", Any[], 1, false)"
      ]
     },
     "execution_count": 9,
     "metadata": {},
     "output_type": "execute_result"
    }
   ],
   "source": [
    "include(\"test_dh17.jl\")"
   ]
  },
  {
   "cell_type": "code",
   "execution_count": 10,
   "metadata": {},
   "outputs": [
    {
     "name": "stdout",
     "output_type": "stream",
     "text": [
      "\u001b[37mfindtransit2: \u001b[39m\u001b[91m\u001b[1mTest Failed\u001b[22m\u001b[39m at \u001b[39m\u001b[1m/Users/langfzac/Research/NbodyGradient.jl/test/test_findtransit2.jl:55\u001b[22m\n",
      "  Expression: isapprox(dtdq0[mask], (convert(Array{Float64, 4}, dtdq0_num))[mask]; norm=maxabs)\n",
      "   Evaluated: isapprox([8.97715, 10.7393, 9.1584, 10.7903, 9.12988, 10.705, 9.09205, 10.7526, 9.11202, 10.7722  …  -0.0, -0.0, -0.0, -0.0, -0.0, -0.0, -0.0, -0.0, -0.0, -0.0], [8.97715, 10.7393, 9.1584, 10.7903, 9.12988, 10.705, 9.09205, 10.7526, 9.11202, 10.7722  …  NaN, NaN, NaN, NaN, NaN, NaN, NaN, NaN, NaN, NaN]; norm=maxabs)\n",
      "Stacktrace:\n",
      " [1] top-level scope at \u001b[1m/Users/langfzac/Research/NbodyGradient.jl/test/test_findtransit2.jl:55\u001b[22m\n",
      " [2] top-level scope at \u001b[1m/Users/julia/buildbot/worker/package_macos64/build/usr/share/julia/stdlib/v1.1/Test/src/Test.jl:1083\u001b[22m\n",
      " [3] top-level scope at \u001b[1m/Users/langfzac/Research/NbodyGradient.jl/test/test_findtransit2.jl:14\u001b[22m\n",
      "\u001b[37mfindtransit2: \u001b[39m\u001b[91m\u001b[1mTest Failed\u001b[22m\u001b[39m at \u001b[39m\u001b[1m/Users/langfzac/Research/NbodyGradient.jl/test/test_findtransit2.jl:56\u001b[22m\n",
      "  Expression: isapprox(asinh.(dtdq0[mask]), asinh.((convert(Array{Float64, 4}, dtdq0_num))[mask]); norm=maxabs)\n",
      "   Evaluated: isapprox([2.89092, 3.06922, 2.91079, 3.07394, 2.90769, 3.06604, 2.90356, 3.07045, 2.90574, 3.07226  …  -0.0, -0.0, -0.0, -0.0, -0.0, -0.0, -0.0, -0.0, -0.0, -0.0], [2.89092, 3.06922, 2.91079, 3.07394, 2.90769, 3.06604, 2.90356, 3.07045, 2.90574, 3.07226  …  NaN, NaN, NaN, NaN, NaN, NaN, NaN, NaN, NaN, NaN]; norm=maxabs)\n",
      "Stacktrace:\n",
      " [1] top-level scope at \u001b[1m/Users/langfzac/Research/NbodyGradient.jl/test/test_findtransit2.jl:56\u001b[22m\n",
      " [2] top-level scope at \u001b[1m/Users/julia/buildbot/worker/package_macos64/build/usr/share/julia/stdlib/v1.1/Test/src/Test.jl:1083\u001b[22m\n",
      " [3] top-level scope at \u001b[1m/Users/langfzac/Research/NbodyGradient.jl/test/test_findtransit2.jl:14\u001b[22m\n",
      "\u001b[37m\u001b[1mTest Summary: | \u001b[22m\u001b[39m\u001b[91m\u001b[1mFail  \u001b[22m\u001b[39m\u001b[36m\u001b[1mTotal\u001b[22m\u001b[39m\n",
      "findtransit2  | \u001b[91m   2  \u001b[39m\u001b[36m    2\u001b[39m\n"
     ]
    },
    {
     "ename": "LoadError",
     "evalue": "Some tests did not pass: 0 passed, 2 failed, 0 errored, 0 broken.",
     "output_type": "error",
     "traceback": [
      "Some tests did not pass: 0 passed, 2 failed, 0 errored, 0 broken.",
      "",
      "Stacktrace:",
      " [1] finish(::Test.DefaultTestSet) at /Users/julia/buildbot/worker/package_macos64/build/usr/share/julia/stdlib/v1.1/Test/src/Test.jl:847",
      " [2] top-level scope at /Users/julia/buildbot/worker/package_macos64/build/usr/share/julia/stdlib/v1.1/Test/src/Test.jl:1093",
      " [3] top-level scope at /Users/langfzac/Research/NbodyGradient.jl/test/test_findtransit2.jl:14",
      " [4] include at ./boot.jl:326 [inlined]",
      " [5] include_relative(::Module, ::String) at ./loading.jl:1038",
      " [6] include(::Module, ::String) at ./sysimg.jl:29",
      " [7] include(::String) at ./client.jl:403",
      " [8] top-level scope at In[10]:1"
     ]
    }
   ],
   "source": [
    "include(\"test_findtransit2.jl\")"
   ]
  },
  {
   "cell_type": "code",
   "execution_count": 6,
   "metadata": {},
   "outputs": [
    {
     "name": "stdout",
     "output_type": "stream",
     "text": [
      "ntt: [0, 70, 45]\n",
      "Max diff asinh(dtdq0): 1.191030253777209521237534833511359086096863065592394031796022324826950771586157e-08\n"
     ]
    }
   ],
   "source": [
    "include(\"test_ttv_cartesian.jl\")"
   ]
  },
  {
   "cell_type": "code",
   "execution_count": 5,
   "metadata": {},
   "outputs": [
    {
     "name": "stdout",
     "output_type": "stream",
     "text": [
      "Maximum error on derivative: 3.1021263673547406e-5\n",
      "Maximum error on derivative: 3.1021032364353385e-5\n",
      "Maximum error on derivative: 1.9793227384323764e-6\n",
      "Maximum error on derivative: 1.980462678519146e-6\n",
      "Maximum error on derivative: 1.7236263988307243e-7\n",
      "Maximum error on derivative: 1.6964504145899895e-7\n",
      "Max diff asinh(dtdelements): 13.14031006038716178157503625540330771846258284237714802139317849615408361859029\n"
     ]
    }
   ],
   "source": [
    "include(\"test_ttv_elements.jl\")"
   ]
  },
  {
   "cell_type": "code",
   "execution_count": null,
   "metadata": {},
   "outputs": [],
   "source": []
  }
 ],
 "metadata": {
  "@webio": {
   "lastCommId": null,
   "lastKernelId": null
  },
  "kernelspec": {
   "display_name": "Julia 1.1.1",
   "language": "julia",
   "name": "julia-1.1"
  },
  "language_info": {
   "file_extension": ".jl",
   "mimetype": "application/julia",
   "name": "julia",
   "version": "1.1.1"
  }
 },
 "nbformat": 4,
 "nbformat_minor": 2
}
