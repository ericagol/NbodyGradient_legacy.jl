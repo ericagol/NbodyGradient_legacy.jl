{
 "cells": [
  {
   "cell_type": "code",
   "execution_count": 1,
   "metadata": {},
   "outputs": [],
   "source": [
    "include(\"../src/ttv.jl\")\n",
    "maxabs(x) = maximum(abs.(x))\n",
    "using Test"
   ]
  },
  {
   "cell_type": "code",
   "execution_count": 2,
   "metadata": {},
   "outputs": [
    {
     "name": "stdout",
     "output_type": "stream",
     "text": [
      "Jacobians: 6.961347140660002705186576711697338771559971299918960931481648049603718319742075e-17\n",
      "Total area: 2.912308552929298342996107241110988437947596128863731171749402610991638159782696 0.0013780836904454569 ratio: 2113.30311295383868920506040907432578469646298266970385049664549072831668292687\n",
      "Scatter in dAdt: 4.60656917369555056200609632280820602422080939340071346945044566470802035559878e-05\n",
      "\u001b[37m\u001b[1mTest Summary: | \u001b[22m\u001b[39m\u001b[32m\u001b[1mPass  \u001b[22m\u001b[39m\u001b[36m\u001b[1mTotal\u001b[22m\u001b[39m\n",
      "kepler_init   | \u001b[32m   1  \u001b[39m\u001b[36m    1\u001b[39m\n"
     ]
    },
    {
     "data": {
      "text/plain": [
       "Test.DefaultTestSet(\"kepler_init\", Any[], 1, false)"
      ]
     },
     "execution_count": 2,
     "metadata": {},
     "output_type": "execute_result"
    }
   ],
   "source": [
    "include(\"test_kepler_init.jl\")"
   ]
  },
  {
   "cell_type": "code",
   "execution_count": 2,
   "metadata": {},
   "outputs": [
    {
     "name": "stdout",
     "output_type": "stream",
     "text": [
      "Maximum jac_init-jac_init_num: 1.920478062542779741700205195274569106990109851304921152132509688736000030595244e-14\n",
      "\u001b[37m\u001b[1mTest Summary: | \u001b[22m\u001b[39m\u001b[32m\u001b[1mPass  \u001b[22m\u001b[39m\u001b[36m\u001b[1mTotal\u001b[22m\u001b[39m\n",
      "init_nbody    | \u001b[32m   1  \u001b[39m\u001b[36m    1\u001b[39m\n"
     ]
    },
    {
     "ename": "UndefVarError",
     "evalue": "UndefVarError: x not defined",
     "output_type": "error",
     "traceback": [
      "UndefVarError: x not defined",
      "",
      "Stacktrace:",
      " [1] top-level scope at In[2]:2"
     ]
    }
   ],
   "source": [
    "include(\"test_init_nbody.jl\")"
   ]
  },
  {
   "cell_type": "code",
   "execution_count": 4,
   "metadata": {},
   "outputs": [
    {
     "name": "stdout",
     "output_type": "stream",
     "text": [
      "Fractional Jacobian difference: 6.439293542825908e-15\n",
      "Maximum jac_big-jac_num: 5.092904789030368e-15\n",
      "Maximum fractional error: 6.661338147750939e-15 2 4\n",
      "Maximum jacobian-jac_num: 1.1368683772161603e-13\n",
      "\u001b[37m\u001b[1mTest Summary: | \u001b[22m\u001b[39m\u001b[32m\u001b[1mPass  \u001b[22m\u001b[39m\u001b[36m\u001b[1mTotal\u001b[22m\u001b[39m\n",
      "kep_elliptic  | \u001b[32m   1  \u001b[39m\u001b[36m    1\u001b[39m\n"
     ]
    },
    {
     "data": {
      "text/plain": [
       "Test.DefaultTestSet(\"kep_elliptic\", Any[], 1, false)"
      ]
     },
     "execution_count": 4,
     "metadata": {},
     "output_type": "execute_result"
    }
   ],
   "source": [
    "include(\"test_elliptic_derivative.jl\")"
   ]
  },
  {
   "cell_type": "code",
   "execution_count": 5,
   "metadata": {},
   "outputs": [
    {
     "name": "stdout",
     "output_type": "stream",
     "text": [
      "max(jac_ij - jac_ij_big): 2.498001805406602e-16\n",
      "Maximum fractional error: 1.1153411527686785e-11 3 7\n",
      "Maximum jac_ij error:   1.942890293094024e-16\n",
      "Maximum jac_ij_big-jac_ij_num:   8.071897226469972e-17\n",
      "Max dqdt error: 2.7755575615628914e-17\n",
      "max(jac_ij - jac_ij_big): 1.1102230246251565e-16\n",
      "Maximum fractional error: 3.564377681897213e-10 1 7\n",
      "Maximum jac_ij error:   2.2898349882893854e-16\n",
      "Maximum jac_ij_big-jac_ij_num:   2.5822387186915846e-16\n",
      "Max dqdt error: 1.0408340855860843e-17\n",
      "\u001b[37m\u001b[1mTest Summary: | \u001b[22m\u001b[39m\u001b[32m\u001b[1mPass  \u001b[22m\u001b[39m\u001b[36m\u001b[1mTotal\u001b[22m\u001b[39m\n",
      "keplerij      | \u001b[32m   2  \u001b[39m\u001b[36m    2\u001b[39m\n"
     ]
    },
    {
     "data": {
      "text/plain": [
       "Test.DefaultTestSet(\"keplerij\", Any[], 2, false)"
      ]
     },
     "execution_count": 5,
     "metadata": {},
     "output_type": "execute_result"
    }
   ],
   "source": [
    "include(\"test_keplerij.jl\")"
   ]
  },
  {
   "cell_type": "code",
   "execution_count": 6,
   "metadata": {},
   "outputs": [
    {
     "name": "stdout",
     "output_type": "stream",
     "text": [
      "Maximum jac_step kickfast error: 1.6653345369377348e-16\n",
      "Maximum dqdt_kick kickdfast error: 4.163336342344337e-17\n",
      "\u001b[37m\u001b[1mTest Summary: | \u001b[22m\u001b[39m\u001b[32m\u001b[1mPass  \u001b[22m\u001b[39m\u001b[36m\u001b[1mTotal\u001b[22m\u001b[39m\n",
      "kickfast      | \u001b[32m   2  \u001b[39m\u001b[36m    2\u001b[39m\n"
     ]
    },
    {
     "data": {
      "text/plain": [
       "Test.DefaultTestSet(\"kickfast\", Any[], 2, false)"
      ]
     },
     "execution_count": 6,
     "metadata": {},
     "output_type": "execute_result"
    }
   ],
   "source": [
    "include(\"test_kickfast.jl\")"
   ]
  },
  {
   "cell_type": "code",
   "execution_count": 7,
   "metadata": {},
   "outputs": [
    {
     "name": "stdout",
     "output_type": "stream",
     "text": [
      "pair: Bool[false false false; false false false; false false false]\n",
      "Maximum jac_step phisalpha error: 5.765103712543775e-19\n",
      "Maximum dqdt_phi phisalpha error: 3.2526065174565133e-19\n",
      "\u001b[37m\u001b[1mTest Summary: | \u001b[22m\u001b[39m\u001b[32m\u001b[1mPass  \u001b[22m\u001b[39m\u001b[36m\u001b[1mTotal\u001b[22m\u001b[39m\n",
      "phisalpha     | \u001b[32m   2  \u001b[39m\u001b[36m    2\u001b[39m\n"
     ]
    },
    {
     "data": {
      "text/plain": [
       "Test.DefaultTestSet(\"phisalpha\", Any[], 2, false)"
      ]
     },
     "execution_count": 7,
     "metadata": {},
     "output_type": "execute_result"
    }
   ],
   "source": [
    "include(\"test_phisalpha.jl\")"
   ]
  },
  {
   "cell_type": "code",
   "execution_count": 8,
   "metadata": {},
   "outputs": [
    {
     "name": "stdout",
     "output_type": "stream",
     "text": [
      "  0.003309 seconds (25.50 k allocations: 3.098 MiB)\n",
      "  0.285633 seconds (598.56 k allocations: 32.142 MiB, 3.05% gc time)\n",
      "AH18 vs. DH17 x/v difference: [1.37802e-16 -1.17423e-14 -2.20483e-14; -7.80626e-17 -4.27783e-15 2.11853e-14; -1.1254e-16 -2.70617e-15 2.15696e-14][-3.17129e-16 1.58207e-15 5.39568e-14; -3.13775e-17 -7.49747e-15 9.12465e-15; -3.60714e-16 1.74895e-14 5.44703e-14]\n",
      "Maximum fractional error: 2.895187059111770919973050358249900383786306291710765163533768707965143051552097e-13 1 1 1 2 0.01651408754991883\n",
      "Maximum error jac_step:   4.321460798924992342156305183420639631369765020702081164566116241264144389051434e-10\n",
      "Maximum diff asinh(jac_step):   2.667303548673516232116525945876979237404576165990692203050058334857967946192397e-11\n",
      "dqdt: [-0.000530327, -2.90675e-5, 0.000292859, 0.00095575, 6.23135e-5, 0.00113134, 0.0, 0.0618578, 0.0171148, 0.0262528, -0.0223748, 0.0363701, -0.0901467, 0.0, 0.0639538, -0.0617229, -0.062355, -0.155137, -0.0270456, -0.155146, 0.0] dqdt_num: [-0.000530327, -2.90675e-5, 0.000292859, 0.00095575, 6.23135e-5, 0.00113134, 0.0, 0.0618578, 0.0171148, 0.0262528, -0.0223748, 0.0363701, -0.0901467, 0.0, 0.0639538, -0.0617229, -0.062355, -0.155137, -0.0270456, -0.155146, 0.0] diff: [0.0, 4.06576e-20, -5.42101e-20, 2.1684e-19, -2.71051e-20, 2.1684e-19, 0.0, -6.93889e-18, -1.38778e-17, -6.93889e-18, -6.93889e-18, 6.93889e-18, -2.77556e-17, 0.0, -2.77556e-17, 1.38778e-17, 1.38778e-17, 0.0, 3.46945e-18, -2.77556e-17, 0.0]\n",
      "dqdt-dqdt_num: 2.7755575615628914e-17\n",
      "\u001b[37m\u001b[1mTest Summary: | \u001b[22m\u001b[39m\u001b[32m\u001b[1mPass  \u001b[22m\u001b[39m\u001b[36m\u001b[1mTotal\u001b[22m\u001b[39m\n",
      "dh17          | \u001b[32m   2  \u001b[39m\u001b[36m    2\u001b[39m\n"
     ]
    },
    {
     "data": {
      "text/plain": [
       "Test.DefaultTestSet(\"dh17\", Any[], 2, false)"
      ]
     },
     "execution_count": 8,
     "metadata": {},
     "output_type": "execute_result"
    }
   ],
   "source": [
    "include(\"test_dh17.jl\")"
   ]
  },
  {
   "cell_type": "code",
   "execution_count": 9,
   "metadata": {},
   "outputs": [
    {
     "name": "stdout",
     "output_type": "stream",
     "text": [
      "Max diff asinh(dtdq0): 3.4555691641457997e-15\n",
      "Max diff     dtdq0 : 8.881784197001252e-15\n",
      "\u001b[37m\u001b[1mTest Summary: | \u001b[22m\u001b[39m\u001b[32m\u001b[1mPass  \u001b[22m\u001b[39m\u001b[36m\u001b[1mTotal\u001b[22m\u001b[39m\n",
      "findtransit3  | \u001b[32m   1  \u001b[39m\u001b[36m    1\u001b[39m\n"
     ]
    },
    {
     "data": {
      "text/plain": [
       "Test.DefaultTestSet(\"findtransit3\", Any[], 1, false)"
      ]
     },
     "execution_count": 9,
     "metadata": {},
     "output_type": "execute_result"
    }
   ],
   "source": [
    "include(\"test_findtransit3.jl\")"
   ]
  },
  {
   "cell_type": "code",
   "execution_count": 14,
   "metadata": {},
   "outputs": [
    {
     "name": "stdout",
     "output_type": "stream",
     "text": [
      "ntt: [0, 70, 45]\n",
      "Max diff asinh(dtdq0): 1.439413099244097882937589553961632936056611574155449176747365255083959248219135e-10\n",
      "\u001b[37m\u001b[1mTest Summary: | \u001b[22m\u001b[39m\u001b[32m\u001b[1mPass  \u001b[22m\u001b[39m\u001b[36m\u001b[1mTotal\u001b[22m\u001b[39m\n",
      "ttv_cartesian | \u001b[32m   1  \u001b[39m\u001b[36m    1\u001b[39m\n"
     ]
    },
    {
     "data": {
      "text/plain": [
       "Test.DefaultTestSet(\"ttv_cartesian\", Any[], 1, false)"
      ]
     },
     "execution_count": 14,
     "metadata": {},
     "output_type": "execute_result"
    }
   ],
   "source": [
    "include(\"test_ttv_cartesian.jl\")"
   ]
  },
  {
   "cell_type": "code",
   "execution_count": 11,
   "metadata": {},
   "outputs": [
    {
     "name": "stdout",
     "output_type": "stream",
     "text": [
      "Maximum error on derivative: 6.007187043011175e-5\n",
      "Maximum error on derivative: 3.102015294165206e-5\n",
      "Maximum error on derivative: 3.7543520011729115e-6\n",
      "Maximum error on derivative: 1.9726765691507886e-6\n",
      "Maximum error on derivative: 2.3468704823947917e-7\n",
      "Maximum error on derivative: 1.240740234442761e-7\n",
      "Max diff asinh(dtdelements): 9.098961977957169786786697736359114832502995496560758521721937419195367792903121e-10\n",
      "\u001b[37m\u001b[1mTest Summary: | \u001b[22m\u001b[39m\u001b[32m\u001b[1mPass  \u001b[22m\u001b[39m\u001b[36m\u001b[1mTotal\u001b[22m\u001b[39m\n",
      "ttv_elements  | \u001b[32m   1  \u001b[39m\u001b[36m    1\u001b[39m\n"
     ]
    },
    {
     "data": {
      "text/plain": [
       "Test.DefaultTestSet(\"ttv_elements\", Any[], 1, false)"
      ]
     },
     "execution_count": 11,
     "metadata": {},
     "output_type": "execute_result"
    }
   ],
   "source": [
    "include(\"test_ttv_elements.jl\")"
   ]
  }
 ],
 "metadata": {
  "@webio": {
   "lastCommId": null,
   "lastKernelId": null
  },
  "kernelspec": {
   "display_name": "Julia 1.1.1",
   "language": "julia",
   "name": "julia-1.1"
  },
  "language_info": {
   "file_extension": ".jl",
   "mimetype": "application/julia",
   "name": "julia",
   "version": "1.1.1"
  }
 },
 "nbformat": 4,
 "nbformat_minor": 2
}
